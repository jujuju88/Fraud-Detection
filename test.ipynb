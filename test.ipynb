{
 "cells": [
  {
   "attachments": {},
   "cell_type": "markdown",
   "metadata": {},
   "source": [
    "## Model 1: Logistic Regression, original dataset\n",
    "\n",
    "With original dataset\n",
    "\n",
    "Shape: (6362620, 12)"
   ]
  },
  {
   "cell_type": "code",
   "execution_count": 1,
   "metadata": {},
   "outputs": [],
   "source": [
    "# import libraries\n",
    "import numpy as np\n",
    "import matplotlib.pyplot as plt\n",
    "import pandas as pd\n",
    "import seaborn as sns\n",
    "from mlxtend.plotting import plot_confusion_matrix\n"
   ]
  },
  {
   "cell_type": "code",
   "execution_count": 2,
   "metadata": {},
   "outputs": [],
   "source": [
    "from sklearn import preprocessing\n",
    "from sklearn.preprocessing import RobustScaler, StandardScaler\n",
    "\n",
    "from sklearn.linear_model import LogisticRegression\n",
    "from sklearn.model_selection import train_test_split\n",
    "from sklearn import metrics\n",
    "from sklearn.metrics import confusion_matrix\n",
    "from sklearn.metrics import classification_report, confusion_matrix, accuracy_score, roc_auc_score, roc_curve"
   ]
  },
  {
   "cell_type": "code",
   "execution_count": 3,
   "metadata": {},
   "outputs": [
    {
     "data": {
      "text/html": [
       "<div>\n",
       "<style scoped>\n",
       "    .dataframe tbody tr th:only-of-type {\n",
       "        vertical-align: middle;\n",
       "    }\n",
       "\n",
       "    .dataframe tbody tr th {\n",
       "        vertical-align: top;\n",
       "    }\n",
       "\n",
       "    .dataframe thead th {\n",
       "        text-align: right;\n",
       "    }\n",
       "</style>\n",
       "<table border=\"1\" class=\"dataframe\">\n",
       "  <thead>\n",
       "    <tr style=\"text-align: right;\">\n",
       "      <th></th>\n",
       "      <th>step</th>\n",
       "      <th>type</th>\n",
       "      <th>amount</th>\n",
       "      <th>nameOrig</th>\n",
       "      <th>oldbalanceOrg</th>\n",
       "      <th>newbalanceOrig</th>\n",
       "      <th>nameDest</th>\n",
       "      <th>oldbalanceDest</th>\n",
       "      <th>newbalanceDest</th>\n",
       "      <th>isFraud</th>\n",
       "      <th>isFlaggedFraud</th>\n",
       "    </tr>\n",
       "  </thead>\n",
       "  <tbody>\n",
       "    <tr>\n",
       "      <th>0</th>\n",
       "      <td>1</td>\n",
       "      <td>PAYMENT</td>\n",
       "      <td>9839.64</td>\n",
       "      <td>C1231006815</td>\n",
       "      <td>170136.0</td>\n",
       "      <td>160296.36</td>\n",
       "      <td>M1979787155</td>\n",
       "      <td>0.0</td>\n",
       "      <td>0.0</td>\n",
       "      <td>0</td>\n",
       "      <td>0</td>\n",
       "    </tr>\n",
       "    <tr>\n",
       "      <th>1</th>\n",
       "      <td>1</td>\n",
       "      <td>PAYMENT</td>\n",
       "      <td>1864.28</td>\n",
       "      <td>C1666544295</td>\n",
       "      <td>21249.0</td>\n",
       "      <td>19384.72</td>\n",
       "      <td>M2044282225</td>\n",
       "      <td>0.0</td>\n",
       "      <td>0.0</td>\n",
       "      <td>0</td>\n",
       "      <td>0</td>\n",
       "    </tr>\n",
       "    <tr>\n",
       "      <th>2</th>\n",
       "      <td>1</td>\n",
       "      <td>TRANSFER</td>\n",
       "      <td>181.00</td>\n",
       "      <td>C1305486145</td>\n",
       "      <td>181.0</td>\n",
       "      <td>0.00</td>\n",
       "      <td>C553264065</td>\n",
       "      <td>0.0</td>\n",
       "      <td>0.0</td>\n",
       "      <td>1</td>\n",
       "      <td>0</td>\n",
       "    </tr>\n",
       "    <tr>\n",
       "      <th>3</th>\n",
       "      <td>1</td>\n",
       "      <td>CASH_OUT</td>\n",
       "      <td>181.00</td>\n",
       "      <td>C840083671</td>\n",
       "      <td>181.0</td>\n",
       "      <td>0.00</td>\n",
       "      <td>C38997010</td>\n",
       "      <td>21182.0</td>\n",
       "      <td>0.0</td>\n",
       "      <td>1</td>\n",
       "      <td>0</td>\n",
       "    </tr>\n",
       "    <tr>\n",
       "      <th>4</th>\n",
       "      <td>1</td>\n",
       "      <td>PAYMENT</td>\n",
       "      <td>11668.14</td>\n",
       "      <td>C2048537720</td>\n",
       "      <td>41554.0</td>\n",
       "      <td>29885.86</td>\n",
       "      <td>M1230701703</td>\n",
       "      <td>0.0</td>\n",
       "      <td>0.0</td>\n",
       "      <td>0</td>\n",
       "      <td>0</td>\n",
       "    </tr>\n",
       "  </tbody>\n",
       "</table>\n",
       "</div>"
      ],
      "text/plain": [
       "   step      type    amount     nameOrig  oldbalanceOrg  newbalanceOrig   \n",
       "0     1   PAYMENT   9839.64  C1231006815       170136.0       160296.36  \\\n",
       "1     1   PAYMENT   1864.28  C1666544295        21249.0        19384.72   \n",
       "2     1  TRANSFER    181.00  C1305486145          181.0            0.00   \n",
       "3     1  CASH_OUT    181.00   C840083671          181.0            0.00   \n",
       "4     1   PAYMENT  11668.14  C2048537720        41554.0        29885.86   \n",
       "\n",
       "      nameDest  oldbalanceDest  newbalanceDest  isFraud  isFlaggedFraud  \n",
       "0  M1979787155             0.0             0.0        0               0  \n",
       "1  M2044282225             0.0             0.0        0               0  \n",
       "2   C553264065             0.0             0.0        1               0  \n",
       "3    C38997010         21182.0             0.0        1               0  \n",
       "4  M1230701703             0.0             0.0        0               0  "
      ]
     },
     "execution_count": 3,
     "metadata": {},
     "output_type": "execute_result"
    }
   ],
   "source": [
    "## loading data\n",
    "df = pd.read_csv('fraud_detection.csv')\n",
    "df.head()"
   ]
  },
  {
   "cell_type": "code",
   "execution_count": 4,
   "metadata": {},
   "outputs": [
    {
     "data": {
      "text/plain": [
       "(6362620, 11)"
      ]
     },
     "execution_count": 4,
     "metadata": {},
     "output_type": "execute_result"
    }
   ],
   "source": [
    "df.shape"
   ]
  },
  {
   "cell_type": "code",
   "execution_count": 5,
   "metadata": {},
   "outputs": [],
   "source": [
    "## separating variables\n",
    "num_col=['step','amount','oldbalanceOrg','newbalanceOrig','oldbalanceDest','newbalanceDest']\n",
    "cat_col = ['type','nameOrig','nameDest']\n",
    "encoded_col = ['isFraud','isFlaggedFraud']"
   ]
  },
  {
   "attachments": {},
   "cell_type": "markdown",
   "metadata": {},
   "source": [
    "## Cleaning the dataset"
   ]
  },
  {
   "cell_type": "code",
   "execution_count": 6,
   "metadata": {},
   "outputs": [],
   "source": [
    "##dropping 'nameOrig' and 'nameDest' as they are ID's of the sender and recipient which are not useful for the model\n",
    "df.drop(['nameOrig','nameDest'],axis=1,inplace=True)"
   ]
  },
  {
   "cell_type": "code",
   "execution_count": 7,
   "metadata": {},
   "outputs": [],
   "source": [
    "## replacing outliers with median \n",
    "\n",
    "for col in num_col:\n",
    "    Q1 = df[col].quantile(0.25)\n",
    "    Q3 = df[col].quantile(0.75)\n",
    "    IQR = Q3 - Q1\n",
    "    UB = Q3 + 1.5* IQR #1280.25 upper bound for outliers\n",
    "    LB = Q1 - 1.5* IQR #lowe upper bound for outliers\n",
    "    df[col] = np.where(df[col] > UB, int(df[col].median()),df[col])\n",
    "    df[col] = np.where(df[col] < LB, int(df[col].median()),df[col])\n",
    "    #df.drop(df[df[col] < LB].index, inplace=True)\n",
    "    #df.drop(df[df[col] > UB].index, inplace=True)"
   ]
  },
  {
   "cell_type": "code",
   "execution_count": 8,
   "metadata": {},
   "outputs": [
    {
     "data": {
      "text/plain": [
       "(6362620, 9)"
      ]
     },
     "execution_count": 8,
     "metadata": {},
     "output_type": "execute_result"
    }
   ],
   "source": [
    "df.shape #after dropping outliers: (3199292, 9) about half rows have been removed"
   ]
  },
  {
   "cell_type": "code",
   "execution_count": 9,
   "metadata": {},
   "outputs": [],
   "source": [
    "## One-hot encoding on 'type' column to turn it into numerical values, instead of label encoding \n",
    "## too avoid the model misunderstand the data to be in some kind of order, 0 < 1 <2\n",
    "df=pd.get_dummies(data=df,columns=['type'],drop_first=True)\n",
    "\n",
    "## changing booleans of encoded 'type' data to 0/1\n",
    "zero_one = {False:0, True:1}\n",
    "type_encoded = ['type_CASH_OUT','type_DEBIT','type_PAYMENT','type_TRANSFER']\n",
    "for i in type_encoded:\n",
    "    df[i] = df[i].map(zero_one)"
   ]
  },
  {
   "cell_type": "code",
   "execution_count": 10,
   "metadata": {},
   "outputs": [],
   "source": [
    "## moving target variable'isFraud' as the last column to split easier intp train, split later on\n",
    "df = df[ [ col for col in df.columns if col != 'isFraud' ] + ['isFraud'] ]"
   ]
  },
  {
   "cell_type": "code",
   "execution_count": 11,
   "metadata": {},
   "outputs": [
    {
     "data": {
      "text/html": [
       "<div>\n",
       "<style scoped>\n",
       "    .dataframe tbody tr th:only-of-type {\n",
       "        vertical-align: middle;\n",
       "    }\n",
       "\n",
       "    .dataframe tbody tr th {\n",
       "        vertical-align: top;\n",
       "    }\n",
       "\n",
       "    .dataframe thead th {\n",
       "        text-align: right;\n",
       "    }\n",
       "</style>\n",
       "<table border=\"1\" class=\"dataframe\">\n",
       "  <thead>\n",
       "    <tr style=\"text-align: right;\">\n",
       "      <th></th>\n",
       "      <th>step</th>\n",
       "      <th>amount</th>\n",
       "      <th>oldbalanceOrg</th>\n",
       "      <th>newbalanceOrig</th>\n",
       "      <th>oldbalanceDest</th>\n",
       "      <th>newbalanceDest</th>\n",
       "      <th>isFlaggedFraud</th>\n",
       "      <th>type_CASH_OUT</th>\n",
       "      <th>type_DEBIT</th>\n",
       "      <th>type_PAYMENT</th>\n",
       "      <th>type_TRANSFER</th>\n",
       "      <th>isFraud</th>\n",
       "    </tr>\n",
       "  </thead>\n",
       "  <tbody>\n",
       "    <tr>\n",
       "      <th>0</th>\n",
       "      <td>-1.36</td>\n",
       "      <td>-0.402548</td>\n",
       "      <td>6.251373</td>\n",
       "      <td>32.449247</td>\n",
       "      <td>-0.320668</td>\n",
       "      <td>-0.38925</td>\n",
       "      <td>0</td>\n",
       "      <td>0</td>\n",
       "      <td>0</td>\n",
       "      <td>1</td>\n",
       "      <td>0</td>\n",
       "      <td>0</td>\n",
       "    </tr>\n",
       "    <tr>\n",
       "      <th>1</th>\n",
       "      <td>-1.36</td>\n",
       "      <td>-0.451916</td>\n",
       "      <td>0.282284</td>\n",
       "      <td>3.924104</td>\n",
       "      <td>-0.320668</td>\n",
       "      <td>-0.38925</td>\n",
       "      <td>0</td>\n",
       "      <td>0</td>\n",
       "      <td>0</td>\n",
       "      <td>1</td>\n",
       "      <td>0</td>\n",
       "      <td>0</td>\n",
       "    </tr>\n",
       "    <tr>\n",
       "      <th>2</th>\n",
       "      <td>-1.36</td>\n",
       "      <td>-0.462336</td>\n",
       "      <td>-0.562362</td>\n",
       "      <td>0.000000</td>\n",
       "      <td>-0.320668</td>\n",
       "      <td>-0.38925</td>\n",
       "      <td>0</td>\n",
       "      <td>0</td>\n",
       "      <td>0</td>\n",
       "      <td>0</td>\n",
       "      <td>1</td>\n",
       "      <td>1</td>\n",
       "    </tr>\n",
       "    <tr>\n",
       "      <th>3</th>\n",
       "      <td>-1.36</td>\n",
       "      <td>-0.462336</td>\n",
       "      <td>-0.562362</td>\n",
       "      <td>0.000000</td>\n",
       "      <td>-0.269484</td>\n",
       "      <td>-0.38925</td>\n",
       "      <td>0</td>\n",
       "      <td>1</td>\n",
       "      <td>0</td>\n",
       "      <td>0</td>\n",
       "      <td>0</td>\n",
       "      <td>1</td>\n",
       "    </tr>\n",
       "    <tr>\n",
       "      <th>4</th>\n",
       "      <td>-1.36</td>\n",
       "      <td>-0.391230</td>\n",
       "      <td>1.096340</td>\n",
       "      <td>6.049879</td>\n",
       "      <td>-0.320668</td>\n",
       "      <td>-0.38925</td>\n",
       "      <td>0</td>\n",
       "      <td>0</td>\n",
       "      <td>0</td>\n",
       "      <td>1</td>\n",
       "      <td>0</td>\n",
       "      <td>0</td>\n",
       "    </tr>\n",
       "  </tbody>\n",
       "</table>\n",
       "</div>"
      ],
      "text/plain": [
       "   step    amount  oldbalanceOrg  newbalanceOrig  oldbalanceDest   \n",
       "0 -1.36 -0.402548       6.251373       32.449247       -0.320668  \\\n",
       "1 -1.36 -0.451916       0.282284        3.924104       -0.320668   \n",
       "2 -1.36 -0.462336      -0.562362        0.000000       -0.320668   \n",
       "3 -1.36 -0.462336      -0.562362        0.000000       -0.269484   \n",
       "4 -1.36 -0.391230       1.096340        6.049879       -0.320668   \n",
       "\n",
       "   newbalanceDest  isFlaggedFraud  type_CASH_OUT  type_DEBIT  type_PAYMENT   \n",
       "0        -0.38925               0              0           0             1  \\\n",
       "1        -0.38925               0              0           0             1   \n",
       "2        -0.38925               0              0           0             0   \n",
       "3        -0.38925               0              1           0             0   \n",
       "4        -0.38925               0              0           0             1   \n",
       "\n",
       "   type_TRANSFER  isFraud  \n",
       "0              0        0  \n",
       "1              0        0  \n",
       "2              1        1  \n",
       "3              0        1  \n",
       "4              0        0  "
      ]
     },
     "execution_count": 11,
     "metadata": {},
     "output_type": "execute_result"
    }
   ],
   "source": [
    "# We are using RobustScaler to scale down the numerical features as RobustScaler is less prone to outliers\n",
    "scale = RobustScaler()\n",
    "for feature in num_col:\n",
    "    df[feature]=scale.fit_transform(df[feature].values.reshape(-1, 1))\n",
    "df.head()\n",
    "\n",
    "## on the first row, we can still see that there's a huge range even after scaling -1.36 to 32.44\n",
    "## could try another scaler"
   ]
  },
  {
   "cell_type": "code",
   "execution_count": 12,
   "metadata": {},
   "outputs": [
    {
     "data": {
      "text/html": [
       "<div>\n",
       "<style scoped>\n",
       "    .dataframe tbody tr th:only-of-type {\n",
       "        vertical-align: middle;\n",
       "    }\n",
       "\n",
       "    .dataframe tbody tr th {\n",
       "        vertical-align: top;\n",
       "    }\n",
       "\n",
       "    .dataframe thead th {\n",
       "        text-align: right;\n",
       "    }\n",
       "</style>\n",
       "<table border=\"1\" class=\"dataframe\">\n",
       "  <thead>\n",
       "    <tr style=\"text-align: right;\">\n",
       "      <th></th>\n",
       "      <th>step</th>\n",
       "      <th>amount</th>\n",
       "      <th>oldbalanceOrg</th>\n",
       "      <th>newbalanceOrig</th>\n",
       "      <th>oldbalanceDest</th>\n",
       "      <th>newbalanceDest</th>\n",
       "      <th>isFlaggedFraud</th>\n",
       "      <th>type_CASH_OUT</th>\n",
       "      <th>type_DEBIT</th>\n",
       "      <th>type_PAYMENT</th>\n",
       "      <th>type_TRANSFER</th>\n",
       "      <th>isFraud</th>\n",
       "    </tr>\n",
       "  </thead>\n",
       "  <tbody>\n",
       "    <tr>\n",
       "      <th>0</th>\n",
       "      <td>-1.36</td>\n",
       "      <td>-0.402548</td>\n",
       "      <td>6.251373</td>\n",
       "      <td>32.449247</td>\n",
       "      <td>-0.320668</td>\n",
       "      <td>-0.389250</td>\n",
       "      <td>0</td>\n",
       "      <td>0</td>\n",
       "      <td>0</td>\n",
       "      <td>1</td>\n",
       "      <td>0</td>\n",
       "      <td>0</td>\n",
       "    </tr>\n",
       "    <tr>\n",
       "      <th>1</th>\n",
       "      <td>-1.36</td>\n",
       "      <td>-0.451916</td>\n",
       "      <td>0.282284</td>\n",
       "      <td>3.924104</td>\n",
       "      <td>-0.320668</td>\n",
       "      <td>-0.389250</td>\n",
       "      <td>0</td>\n",
       "      <td>0</td>\n",
       "      <td>0</td>\n",
       "      <td>1</td>\n",
       "      <td>0</td>\n",
       "      <td>0</td>\n",
       "    </tr>\n",
       "    <tr>\n",
       "      <th>2</th>\n",
       "      <td>-1.36</td>\n",
       "      <td>-0.462336</td>\n",
       "      <td>-0.562362</td>\n",
       "      <td>0.000000</td>\n",
       "      <td>-0.320668</td>\n",
       "      <td>-0.389250</td>\n",
       "      <td>0</td>\n",
       "      <td>0</td>\n",
       "      <td>0</td>\n",
       "      <td>0</td>\n",
       "      <td>1</td>\n",
       "      <td>1</td>\n",
       "    </tr>\n",
       "    <tr>\n",
       "      <th>3</th>\n",
       "      <td>-1.36</td>\n",
       "      <td>-0.462336</td>\n",
       "      <td>-0.562362</td>\n",
       "      <td>0.000000</td>\n",
       "      <td>-0.269484</td>\n",
       "      <td>-0.389250</td>\n",
       "      <td>0</td>\n",
       "      <td>1</td>\n",
       "      <td>0</td>\n",
       "      <td>0</td>\n",
       "      <td>0</td>\n",
       "      <td>1</td>\n",
       "    </tr>\n",
       "    <tr>\n",
       "      <th>4</th>\n",
       "      <td>-1.36</td>\n",
       "      <td>-0.391230</td>\n",
       "      <td>1.096340</td>\n",
       "      <td>6.049879</td>\n",
       "      <td>-0.320668</td>\n",
       "      <td>-0.389250</td>\n",
       "      <td>0</td>\n",
       "      <td>0</td>\n",
       "      <td>0</td>\n",
       "      <td>1</td>\n",
       "      <td>0</td>\n",
       "      <td>0</td>\n",
       "    </tr>\n",
       "    <tr>\n",
       "      <th>...</th>\n",
       "      <td>...</td>\n",
       "      <td>...</td>\n",
       "      <td>...</td>\n",
       "      <td>...</td>\n",
       "      <td>...</td>\n",
       "      <td>...</td>\n",
       "      <td>...</td>\n",
       "      <td>...</td>\n",
       "      <td>...</td>\n",
       "      <td>...</td>\n",
       "      <td>...</td>\n",
       "      <td>...</td>\n",
       "    </tr>\n",
       "    <tr>\n",
       "      <th>6362615</th>\n",
       "      <td>0.00</td>\n",
       "      <td>1.639197</td>\n",
       "      <td>0.000000</td>\n",
       "      <td>0.000000</td>\n",
       "      <td>-0.320668</td>\n",
       "      <td>0.226704</td>\n",
       "      <td>0</td>\n",
       "      <td>1</td>\n",
       "      <td>0</td>\n",
       "      <td>0</td>\n",
       "      <td>0</td>\n",
       "      <td>1</td>\n",
       "    </tr>\n",
       "    <tr>\n",
       "      <th>6362616</th>\n",
       "      <td>0.00</td>\n",
       "      <td>0.000000</td>\n",
       "      <td>0.000000</td>\n",
       "      <td>0.000000</td>\n",
       "      <td>-0.320668</td>\n",
       "      <td>-0.389250</td>\n",
       "      <td>0</td>\n",
       "      <td>0</td>\n",
       "      <td>0</td>\n",
       "      <td>0</td>\n",
       "      <td>1</td>\n",
       "      <td>1</td>\n",
       "    </tr>\n",
       "    <tr>\n",
       "      <th>6362617</th>\n",
       "      <td>0.00</td>\n",
       "      <td>0.000000</td>\n",
       "      <td>0.000000</td>\n",
       "      <td>0.000000</td>\n",
       "      <td>-0.155172</td>\n",
       "      <td>0.000000</td>\n",
       "      <td>0</td>\n",
       "      <td>1</td>\n",
       "      <td>0</td>\n",
       "      <td>0</td>\n",
       "      <td>0</td>\n",
       "      <td>1</td>\n",
       "    </tr>\n",
       "    <tr>\n",
       "      <th>6362618</th>\n",
       "      <td>0.00</td>\n",
       "      <td>0.000000</td>\n",
       "      <td>0.000000</td>\n",
       "      <td>0.000000</td>\n",
       "      <td>-0.320668</td>\n",
       "      <td>-0.389250</td>\n",
       "      <td>0</td>\n",
       "      <td>0</td>\n",
       "      <td>0</td>\n",
       "      <td>0</td>\n",
       "      <td>1</td>\n",
       "      <td>1</td>\n",
       "    </tr>\n",
       "    <tr>\n",
       "      <th>6362619</th>\n",
       "      <td>0.00</td>\n",
       "      <td>0.000000</td>\n",
       "      <td>0.000000</td>\n",
       "      <td>0.000000</td>\n",
       "      <td>0.000000</td>\n",
       "      <td>0.000000</td>\n",
       "      <td>0</td>\n",
       "      <td>1</td>\n",
       "      <td>0</td>\n",
       "      <td>0</td>\n",
       "      <td>0</td>\n",
       "      <td>1</td>\n",
       "    </tr>\n",
       "  </tbody>\n",
       "</table>\n",
       "<p>6362620 rows × 12 columns</p>\n",
       "</div>"
      ],
      "text/plain": [
       "         step    amount  oldbalanceOrg  newbalanceOrig  oldbalanceDest   \n",
       "0       -1.36 -0.402548       6.251373       32.449247       -0.320668  \\\n",
       "1       -1.36 -0.451916       0.282284        3.924104       -0.320668   \n",
       "2       -1.36 -0.462336      -0.562362        0.000000       -0.320668   \n",
       "3       -1.36 -0.462336      -0.562362        0.000000       -0.269484   \n",
       "4       -1.36 -0.391230       1.096340        6.049879       -0.320668   \n",
       "...       ...       ...            ...             ...             ...   \n",
       "6362615  0.00  1.639197       0.000000        0.000000       -0.320668   \n",
       "6362616  0.00  0.000000       0.000000        0.000000       -0.320668   \n",
       "6362617  0.00  0.000000       0.000000        0.000000       -0.155172   \n",
       "6362618  0.00  0.000000       0.000000        0.000000       -0.320668   \n",
       "6362619  0.00  0.000000       0.000000        0.000000        0.000000   \n",
       "\n",
       "         newbalanceDest  isFlaggedFraud  type_CASH_OUT  type_DEBIT   \n",
       "0             -0.389250               0              0           0  \\\n",
       "1             -0.389250               0              0           0   \n",
       "2             -0.389250               0              0           0   \n",
       "3             -0.389250               0              1           0   \n",
       "4             -0.389250               0              0           0   \n",
       "...                 ...             ...            ...         ...   \n",
       "6362615        0.226704               0              1           0   \n",
       "6362616       -0.389250               0              0           0   \n",
       "6362617        0.000000               0              1           0   \n",
       "6362618       -0.389250               0              0           0   \n",
       "6362619        0.000000               0              1           0   \n",
       "\n",
       "         type_PAYMENT  type_TRANSFER  isFraud  \n",
       "0                   1              0        0  \n",
       "1                   1              0        0  \n",
       "2                   0              1        1  \n",
       "3                   0              0        1  \n",
       "4                   1              0        0  \n",
       "...               ...            ...      ...  \n",
       "6362615             0              0        1  \n",
       "6362616             0              1        1  \n",
       "6362617             0              0        1  \n",
       "6362618             0              1        1  \n",
       "6362619             0              0        1  \n",
       "\n",
       "[6362620 rows x 12 columns]"
      ]
     },
     "execution_count": 12,
     "metadata": {},
     "output_type": "execute_result"
    }
   ],
   "source": [
    "## the cleaned data\n",
    "df"
   ]
  },
  {
   "attachments": {},
   "cell_type": "markdown",
   "metadata": {},
   "source": [
    "## Split data intro train and test"
   ]
  },
  {
   "cell_type": "code",
   "execution_count": 13,
   "metadata": {},
   "outputs": [],
   "source": [
    "## select dep and indep \n",
    "X = df.iloc[:,:-1].values \n",
    "y = df.iloc[:,-1].values\n",
    "\n",
    "# spplit into train test\n",
    "X_train, X_test, y_train, y_test = train_test_split(X,y, test_size=0.20, random_state=32) "
   ]
  },
  {
   "attachments": {},
   "cell_type": "markdown",
   "metadata": {},
   "source": [
    "## Model logistic regression"
   ]
  },
  {
   "cell_type": "code",
   "execution_count": 14,
   "metadata": {},
   "outputs": [],
   "source": [
    "## build logistic regression model: will take a while since we have over 6million records\n",
    "log_reg = LogisticRegression()\n",
    "log_reg.fit(X_train, y_train)\n",
    "\n",
    "## make prediction\n",
    "y_pred = log_reg.predict(X_test)\n"
   ]
  },
  {
   "cell_type": "markdown",
   "metadata": {},
   "source": [
    "## Evaluation"
   ]
  },
  {
   "cell_type": "code",
   "execution_count": 15,
   "metadata": {},
   "outputs": [
    {
     "name": "stdout",
     "output_type": "stream",
     "text": [
      "Accuracy: 0.9987308687301772\n"
     ]
    }
   ],
   "source": [
    "# check accuracy\n",
    "print(\"Accuracy:\", metrics.accuracy_score(y_test, y_pred))"
   ]
  },
  {
   "cell_type": "code",
   "execution_count": 16,
   "metadata": {},
   "outputs": [
    {
     "name": "stdout",
     "output_type": "stream",
     "text": [
      "              precision    recall  f1-score   support\n",
      "\n",
      "           0       1.00      1.00      1.00   1270908\n",
      "           1       1.00      0.00      0.00      1616\n",
      "\n",
      "    accuracy                           1.00   1272524\n",
      "   macro avg       1.00      0.50      0.50   1272524\n",
      "weighted avg       1.00      1.00      1.00   1272524\n",
      "\n"
     ]
    }
   ],
   "source": [
    "## classification report\n",
    "print(classification_report(y_test, y_pred))"
   ]
  },
  {
   "cell_type": "code",
   "execution_count": 17,
   "metadata": {},
   "outputs": [
    {
     "data": {
      "image/png": "[encoded data removed]",
      "text/plain": [
       "<Figure size 400x400 with 1 Axes>"
      ]
     },
     "metadata": {},
     "output_type": "display_data"
    }
   ],
   "source": [
    "#confusion matrix\n",
    "\n",
    "logr_conf_mat = confusion_matrix(y_test, y_pred)\n",
    "logr_conf_mat\n",
    "\n",
    "fig, ax = plot_confusion_matrix(conf_mat = logr_conf_mat , figsize = (4,4), cmap = 'Greens')\n",
    "plt.xlabel('Predictions', fontsize = 12 )\n",
    "plt.ylabel('Actuals', fontsize = 12 )\n",
    "plt.title('Orginal Data: Logistic Regression', fontsize = 12 )\n",
    "plt.show()\n",
    "\n",
    "## the model is very good at predicting non-fraud, but very bad at recognising frauded transactions that go unflagged (1615).\n",
    "## this is model is the same as the original system that is not good at flagging fraud transactions\n"
   ]
  },
  {
   "cell_type": "code",
   "execution_count": 18,
   "metadata": {},
   "outputs": [
    {
     "name": "stdout",
     "output_type": "stream",
     "text": [
      "AUC: 0.500309\n"
     ]
    },
    {
     "data": {
      "image/png": "[encoded data removed]",
      "text/plain": [
       "<Figure size 640x480 with 1 Axes>"
      ]
     },
     "metadata": {},
     "output_type": "display_data"
    }
   ],
   "source": [
    "## Calculate AUC\n",
    "auc = roc_auc_score(y_test, y_pred)\n",
    "print('AUC: %f' %auc)\n",
    "\n",
    "\n",
    "fpr, tpr = roc_curve(y_test, y_pred)[0:2]\n",
    "\n",
    "plt.plot(fpr, tpr, color='orange', label='ROC')\n",
    "plt.plot([0, 1], [0, 1], color='darkblue', linestyle='--')\n",
    "plt.xlabel('False Positive Rate')\n",
    "plt.ylabel('True Positive Rate')\n",
    "plt.title('Original Data: ROC of Logistic Regression')\n",
    "plt.text(y= 0.6, x=0.2, s=f'score: {round(auc,6)}')\n",
    "plt.legend()\n",
    "plt.show()"
   ]
  },
  {
   "attachments": {},
   "cell_type": "markdown",
   "metadata": {},
   "source": [
    "## Conclusion\n",
    "\n",
    "Although the accuracy is at 99.8%, from the confusion matrix, this model is no better than the current system that the bank is using. \n",
    "\n",
    "Due to the imblance dataset, the model can only recognise non-fraud transactions and cannot recognise actual fraud transactions at all.\n",
    "\n",
    "The ROC at 0.5 shows that this model is just randomly guessing transactions.\n",
    "\n",
    "Here the model is overfitting.\n"
   ]
  }
 ],
 "metadata": {
  "kernelspec": {
   "display_name": "Python 3",
   "language": "python",
   "name": "python3"
  },
  "language_info": {
   "codemirror_mode": {
    "name": "ipython",
    "version": 3
   },
   "file_extension": ".py",
   "mimetype": "text/x-python",
   "name": "python",
   "nbconvert_exporter": "python",
   "pygments_lexer": "ipython3",
   "version": "3.11.2"
  },
  "orig_nbformat": 4
 },
 "nbformat": 4,
 "nbformat_minor": 2
}
